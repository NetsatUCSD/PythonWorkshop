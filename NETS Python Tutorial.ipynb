{
 "cells": [
  {
   "cell_type": "markdown",
   "metadata": {},
   "source": [
    "# 1. When squirrels get together for a party, they like to have cigars. A squirrel party is successful when the number of cigars is between 40 and 60, inclusive. Unless it is the weekend, in which case there is no upper bound on the number of cigars. Return True if the party with the given values is successful, or False otherwise. Hints: Use simple boolean expressions to solve."
   ]
  },
  {
   "cell_type": "code",
   "execution_count": null,
   "metadata": {
    "collapsed": false
   },
   "outputs": [],
   "source": [
    "def cigar_party(cigars, is_weekend):\n",
    "    # Put your code here!\n",
    "\n",
    "    \n",
    "# Leave this stuff alone! It will test your code.    \n",
    "print \"It's the weekend!\"\n",
    "for i in xrange(30,80,10):\n",
    "    print i,cigar_party(i,True)\n",
    "    \n",
    "print \"\\nAnother weekday...\"\n",
    "for i in xrange(30,80,10):\n",
    "    print i,cigar_party(i,False)\n",
    "    "
   ]
  },
  {
   "cell_type": "markdown",
   "metadata": {},
   "source": [
    "# 2. Given a string name, e.g. \"Bob\", return a greeting of the form \"Hello Bob!\". hello_name('Bob') → 'Hello Bob!'\n"
   ]
  },
  {
   "cell_type": "code",
   "execution_count": null,
   "metadata": {
    "collapsed": false
   },
   "outputs": [],
   "source": [
    "def hello_name(name):\n",
    "    #Put your code in here!\n",
    "\n",
    "\n",
    "\n",
    "\n",
    "# Leave this stuff alone! It will test your code.\n",
    "names = ['Bob','Susan','Carolyn','Zathura']\n",
    "\n",
    "for name in names:\n",
    "    print hello_name(name)"
   ]
  },
  {
   "cell_type": "markdown",
   "metadata": {},
   "source": [
    "# 3. Given a list of ints, return True if the list is length 1 or more, and the first element and the last element are equal. "
   ]
  },
  {
   "cell_type": "code",
   "execution_count": null,
   "metadata": {
    "collapsed": true
   },
   "outputs": [],
   "source": [
    "# A list takes the form a = [b,c,d].\n",
    "# \n",
    "\n",
    "def same_first_last(nums):\n",
    "    # Put your code here!\n",
    "    \n",
    "    \n",
    "    \n",
    "#Test it yourself! Remember to test edge cases!"
   ]
  },
  {
   "cell_type": "markdown",
   "metadata": {},
   "source": [
    "# 4. Given a number, return true if it is even and false if it is odd."
   ]
  },
  {
   "cell_type": "code",
   "execution_count": null,
   "metadata": {
    "collapsed": true
   },
   "outputs": [],
   "source": [
    "def even_odd(num):\n",
    "    # Put your code here!\n",
    "    \n",
    "    \n",
    "#Test it yourself! Remember to test edge cases!"
   ]
  },
  {
   "cell_type": "markdown",
   "metadata": {},
   "source": [
    "# 5. Use string.replace() to replace \"matlab\" with \"python\"."
   ]
  },
  {
   "cell_type": "code",
   "execution_count": null,
   "metadata": {
    "collapsed": false
   },
   "outputs": [],
   "source": [
    "my_string = \"I code in matlab!\"\n",
    "\n",
    "# Set values for a and b to replace \"matlab\" with \"python\".\n",
    "a = \n",
    "b = \n",
    "new_string = my_string.replace(a,b)\n",
    "\n",
    "\n",
    "# See the change!\n",
    "print my_string\n",
    "print new_string\n"
   ]
  },
  {
   "cell_type": "markdown",
   "metadata": {},
   "source": [
    "# 6. Given 2 strings, a and b, return the number of the positions where they contain the same length 2 substring. So \"xxcaazz\" and \"xxbaaz\" yields 3, since the \"xx\", \"aa\", and \"az\" substrings appear in the same place in both strings. \n"
   ]
  },
  {
   "cell_type": "code",
   "execution_count": null,
   "metadata": {
    "collapsed": true
   },
   "outputs": [],
   "source": [
    "def string_match(a,b):\n",
    "    # Put your code here!\n",
    "    \n",
    "    \n",
    "#Test it yourself! Remember to test edge cases!"
   ]
  },
  {
   "cell_type": "markdown",
   "metadata": {},
   "source": [
    "# Examples of NumPy"
   ]
  },
  {
   "cell_type": "code",
   "execution_count": 14,
   "metadata": {
    "collapsed": false
   },
   "outputs": [
    {
     "name": "stdout",
     "output_type": "stream",
     "text": [
      "0\n"
     ]
    }
   ],
   "source": [
    "from numpy import *\n",
    "\n",
    "a = array([ [ 0, 1, 2, 3, 4],\n",
    "     [10,11,12,13,14],\n",
    "     [20,21,22,23,24],\n",
    "     [30,31,32,33,34] ])\n",
    "\n",
    "print a[0,0] # indices start by zero"
   ]
  },
  {
   "cell_type": "code",
   "execution_count": 15,
   "metadata": {
    "collapsed": false
   },
   "outputs": [
    {
     "name": "stdout",
     "output_type": "stream",
     "text": [
      "[30 31 32 33 34]\n"
     ]
    }
   ],
   "source": [
    "print a[-1] # last row"
   ]
  },
  {
   "cell_type": "code",
   "execution_count": 16,
   "metadata": {
    "collapsed": false
   },
   "outputs": [
    {
     "name": "stdout",
     "output_type": "stream",
     "text": [
      "[[11 12 13]\n",
      " [21 22 23]]\n"
     ]
    }
   ],
   "source": [
    "print a[1:3,1:4] # subarray"
   ]
  },
  {
   "cell_type": "code",
   "execution_count": 17,
   "metadata": {
    "collapsed": false
   },
   "outputs": [
    {
     "name": "stdout",
     "output_type": "stream",
     "text": [
      "[ 1 12 23 14]\n"
     ]
    }
   ],
   "source": [
    "i = array([0,1,2,1]) # array of indices for the first axis\n",
    "j = array([1,2,3,4]) # array of indices for the second axis\n",
    "print a[i,j]"
   ]
  },
  {
   "cell_type": "code",
   "execution_count": 18,
   "metadata": {
    "collapsed": false
   },
   "outputs": [
    {
     "name": "stdout",
     "output_type": "stream",
     "text": [
      "[ 0  1  2  3  4 10 11 12]\n"
     ]
    }
   ],
   "source": [
    "print a[a<13] # boolean indexing"
   ]
  },
  {
   "cell_type": "code",
   "execution_count": 20,
   "metadata": {
    "collapsed": false
   },
   "outputs": [
    {
     "name": "stdout",
     "output_type": "stream",
     "text": [
      "[[ 0  1  2  3  4]\n",
      " [20 21 22 23 24]]\n"
     ]
    }
   ],
   "source": [
    "b1 = array( [True,False,True,False] ) # boolean row selector\n",
    "print a[b1,:]"
   ]
  },
  {
   "cell_type": "code",
   "execution_count": 19,
   "metadata": {
    "collapsed": false
   },
   "outputs": [
    {
     "name": "stdout",
     "output_type": "stream",
     "text": [
      "[[ 1  2  4]\n",
      " [11 12 14]\n",
      " [21 22 24]\n",
      " [31 32 34]]\n"
     ]
    }
   ],
   "source": [
    "b2 = array( [False,True,True,False,True] ) # boolean column selector\n",
    "print a[:,b2]"
   ]
  },
  {
   "cell_type": "markdown",
   "metadata": {},
   "source": [
    "# Example of matplotlib"
   ]
  },
  {
   "cell_type": "code",
   "execution_count": 1,
   "metadata": {
    "collapsed": true
   },
   "outputs": [],
   "source": [
    "\"\"\"\n",
    "Demo of scatter plot on a polar axis.\n",
    "\n",
    "Size increases radially in this example and color increases with angle (just to\n",
    "verify the symbols are being scattered correctly).\n",
    "\"\"\"\n",
    "\n",
    "import numpy as np\n",
    "import matplotlib.pyplot as plt\n",
    "\n",
    "\n",
    "N = 150\n",
    "r = 2 * np.random.rand(N)\n",
    "theta = 2 * np.pi * np.random.rand(N)\n",
    "area = 200 * r**2 * np.random.rand(N)\n",
    "colors = theta\n",
    "\n",
    "ax = plt.subplot(111, projection='polar')\n",
    "c = plt.scatter(theta, r, c=colors, s=area, cmap=plt.cm.hsv)\n",
    "c.set_alpha(0.75)\n",
    "\n",
    "plt.show()"
   ]
  },
  {
   "cell_type": "markdown",
   "metadata": {},
   "source": [
    "# Example of Simple Python Class"
   ]
  },
  {
   "cell_type": "code",
   "execution_count": 29,
   "metadata": {
    "collapsed": false
   },
   "outputs": [
    {
     "name": "stdout",
     "output_type": "stream",
     "text": [
      "Total Employee 1\n",
      "Name :  jim , Salary:  50\n",
      "Total Employee 2\n"
     ]
    }
   ],
   "source": [
    "class Employee:\n",
    "\n",
    "    empCount = 0\n",
    "    def __init__(self, name, salary):\n",
    "        self.name = name\n",
    "        self.salary = salary\n",
    "        Employee.empCount += 1\n",
    "   \n",
    "    def displayCount(self):\n",
    "        print \"Total Employee %d\" % Employee.empCount\n",
    "        \n",
    "    def displayEmployee(self):\n",
    "        print \"Name : \", self.name,  \", Salary: \", self.salary\n",
    "        \n",
    "jim = Employee('jim',50)\n",
    "jim.displayCount()\n",
    "jim.displayEmployee()\n",
    "\n",
    "dwight = Employee('dwight',60)\n",
    "dwight.displayCount()\n",
    "\n"
   ]
  }
 ],
 "metadata": {
  "kernelspec": {
   "display_name": "Python 2",
   "language": "python",
   "name": "python2"
  },
  "language_info": {
   "codemirror_mode": {
    "name": "ipython",
    "version": 2
   },
   "file_extension": ".py",
   "mimetype": "text/x-python",
   "name": "python",
   "nbconvert_exporter": "python",
   "pygments_lexer": "ipython2",
   "version": "2.7.11"
  }
 },
 "nbformat": 4,
 "nbformat_minor": 0
}
