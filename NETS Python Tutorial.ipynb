{
 "cells": [
  {
   "cell_type": "markdown",
   "metadata": {},
   "source": [
    "# 1. When squirrels get together for a party, they like to have cigars. A squirrel party is successful when the number of cigars is between 40 and 60, inclusive. Unless it is the weekend, in which case there is no upper bound on the number of cigars. Return True if the party with the given values is successful, or False otherwise. Hints: Use simple boolean expressions to solve."
   ]
  },
  {
   "cell_type": "code",
   "execution_count": 9,
   "metadata": {
    "collapsed": false
   },
   "outputs": [
    {
     "name": "stdout",
     "output_type": "stream",
     "text": [
      "It's the weekend!\n",
      "30 False\n",
      "40 True\n",
      "50 True\n",
      "60 True\n",
      "70 True\n",
      "\n",
      "Another weekday...\n",
      "30 False\n",
      "40 True\n",
      "50 True\n",
      "60 True\n",
      "70 False\n"
     ]
    }
   ],
   "source": [
    "def cigar_party(cigars, is_weekend):\n",
    "    # Put your code here!\n",
    "    if is_weekend and cigars >= 40:\n",
    "        return True\n",
    "    elif is_weekend and cigars < 40:\n",
    "        return False\n",
    "    elif not is_weekend and cigars >= 40 and cigars <= 60:\n",
    "        return True\n",
    "    else:\n",
    "        return False\n",
    "    \n",
    "\n",
    "    \n",
    "# Leave this stuff alone! It will test your code.    \n",
    "print \"It's the weekend!\"\n",
    "for i in xrange(30,80,10):\n",
    "    print i,cigar_party(i,True)\n",
    "    \n",
    "print \"\\nAnother weekday...\"\n",
    "for i in xrange(30,80,10):\n",
    "    print i,cigar_party(i,False)\n",
    "    "
   ]
  },
  {
   "cell_type": "markdown",
   "metadata": {},
   "source": [
    "# 2. Given a string name, e.g. \"Bob\", return a greeting of the form \"Hello Bob!\". hello_name('Bob') → 'Hello Bob!'\n"
   ]
  },
  {
   "cell_type": "code",
   "execution_count": 11,
   "metadata": {
    "collapsed": false
   },
   "outputs": [
    {
     "name": "stdout",
     "output_type": "stream",
     "text": [
      "Hello Bob!\n",
      "Hello Susan!\n",
      "Hello Carolyn!\n",
      "Hello Zathura!\n"
     ]
    }
   ],
   "source": [
    "def hello_name(name):\n",
    "    #Put your code in here!\n",
    "    return 'Hello '+name+'!'\n",
    "\n",
    "\n",
    "\n",
    "# Leave this stuff alone! It will test your code.\n",
    "names = ['Bob','Susan','Carolyn','Zathura']\n",
    "\n",
    "for name in names:\n",
    "    print hello_name(name)"
   ]
  },
  {
   "cell_type": "markdown",
   "metadata": {},
   "source": [
    "# 3. Given a list of ints, return True if the list is length 1 or more, and the first element and the last element are equal. "
   ]
  },
  {
   "cell_type": "code",
   "execution_count": null,
   "metadata": {
    "collapsed": true
   },
   "outputs": [],
   "source": [
    "# A list takes the form a = [b,c,d].\n",
    "# \n",
    "\n",
    "def same_first_last(nums):\n",
    "    # Put your code here!\n",
    "    \n",
    "    \n",
    "    \n",
    "#Test it yourself! Remember to test edge cases!"
   ]
  },
  {
   "cell_type": "markdown",
   "metadata": {},
   "source": [
    "# 4. Given a number, return true if it is even and false if it is odd."
   ]
  },
  {
   "cell_type": "code",
   "execution_count": null,
   "metadata": {
    "collapsed": true
   },
   "outputs": [],
   "source": [
    "def even_odd(num):\n",
    "    # Put your code here!\n",
    "    \n",
    "    \n",
    "#Test it yourself! Remember to test edge cases!"
   ]
  },
  {
   "cell_type": "markdown",
   "metadata": {},
   "source": [
    "# 5. Use string.replace() to replace \"matlab\" with \"python\"."
   ]
  },
  {
   "cell_type": "code",
   "execution_count": 18,
   "metadata": {
    "collapsed": false
   },
   "outputs": [
    {
     "name": "stdout",
     "output_type": "stream",
     "text": [
      "I code in matlab!\n",
      "I code in python!\n"
     ]
    }
   ],
   "source": [
    "my_string = \"I code in matlab!\"\n",
    "\n",
    "# Set values for a and b to replace \"matlab\" with \"python\".\n",
    "a = \n",
    "b = \n",
    "new_string = my_string.replace(a,b)\n",
    "\n",
    "\n",
    "# See the change!\n",
    "print my_string\n",
    "print new_string\n"
   ]
  },
  {
   "cell_type": "markdown",
   "metadata": {},
   "source": [
    "# 6. Given 2 strings, a and b, return the number of the positions where they contain the same length 2 substring. So \"xxcaazz\" and \"xxbaaz\" yields 3, since the \"xx\", \"aa\", and \"az\" substrings appear in the same place in both strings. \n"
   ]
  },
  {
   "cell_type": "code",
   "execution_count": null,
   "metadata": {
    "collapsed": true
   },
   "outputs": [],
   "source": [
    "def string_match(a,b):\n",
    "    # Put your code here!\n",
    "    \n",
    "    \n",
    "#Test it yourself! Remember to test edge cases!"
   ]
  },
  {
   "cell_type": "markdown",
   "metadata": {},
   "source": [
    "# Example of matplotlib"
   ]
  },
  {
   "cell_type": "code",
   "execution_count": 13,
   "metadata": {
    "collapsed": true
   },
   "outputs": [],
   "source": [
    "\"\"\"\n",
    "Demo of scatter plot on a polar axis.\n",
    "\n",
    "Size increases radially in this example and color increases with angle (just to\n",
    "verify the symbols are being scattered correctly).\n",
    "\"\"\"\n",
    "\n",
    "import numpy as np\n",
    "import matplotlib.pyplot as plt\n",
    "\n",
    "\n",
    "N = 150\n",
    "r = 2 * np.random.rand(N)\n",
    "theta = 2 * np.pi * np.random.rand(N)\n",
    "area = 200 * r**2 * np.random.rand(N)\n",
    "colors = theta\n",
    "\n",
    "ax = plt.subplot(111, projection='polar')\n",
    "c = plt.scatter(theta, r, c=colors, s=area, cmap=plt.cm.hsv)\n",
    "c.set_alpha(0.75)\n",
    "\n",
    "plt.show()"
   ]
  },
  {
   "cell_type": "code",
   "execution_count": 24,
   "metadata": {
    "collapsed": false
   },
   "outputs": [
    {
     "name": "stdout",
     "output_type": "stream",
     "text": [
      "['hello', 'world']\n"
     ]
    }
   ],
   "source": [
    "b = \"hello world\"\n",
    "print b.split()"
   ]
  },
  {
   "cell_type": "code",
   "execution_count": 28,
   "metadata": {
    "collapsed": false
   },
   "outputs": [
    {
     "name": "stdout",
     "output_type": "stream",
     "text": [
      "[1, 2, 3, 4]\n"
     ]
    }
   ],
   "source": [
    "c = [1,4,2,3]\n",
    "c.sort()\n",
    "print c"
   ]
  },
  {
   "cell_type": "code",
   "execution_count": null,
   "metadata": {
    "collapsed": true
   },
   "outputs": [],
   "source": []
  }
 ],
 "metadata": {
  "kernelspec": {
   "display_name": "Python 2",
   "language": "python",
   "name": "python2"
  },
  "language_info": {
   "codemirror_mode": {
    "name": "ipython",
    "version": 2
   },
   "file_extension": ".py",
   "mimetype": "text/x-python",
   "name": "python",
   "nbconvert_exporter": "python",
   "pygments_lexer": "ipython2",
   "version": "2.7.11"
  }
 },
 "nbformat": 4,
 "nbformat_minor": 0
}
